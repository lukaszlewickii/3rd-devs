{
 "cells": [
  {
   "cell_type": "code",
   "execution_count": 32,
   "metadata": {},
   "outputs": [],
   "source": [
    "import requests\n",
    "import openai\n",
    "from openai import OpenAI\n",
    "from dotenv import load_dotenv\n",
    "import os\n",
    "import zipfile\n",
    "from tqdm import tqdm\n",
    "import base64\n",
    "import pathlib"
   ]
  },
  {
   "cell_type": "code",
   "execution_count": 4,
   "metadata": {},
   "outputs": [
    {
     "data": {
      "text/plain": [
       "True"
      ]
     },
     "execution_count": 4,
     "metadata": {},
     "output_type": "execute_result"
    }
   ],
   "source": [
    "load_dotenv()"
   ]
  },
  {
   "cell_type": "code",
   "execution_count": 5,
   "metadata": {},
   "outputs": [],
   "source": [
    "client = OpenAI()"
   ]
  },
  {
   "cell_type": "code",
   "execution_count": 2,
   "metadata": {},
   "outputs": [],
   "source": [
    "path = './pliki_z_fabryki'\n",
    "files = [f for f in os.listdir(path) if os.path.isfile(os.path.join(path, f))]"
   ]
  },
  {
   "cell_type": "code",
   "execution_count": 3,
   "metadata": {},
   "outputs": [
    {
     "data": {
      "text/plain": [
       "['2024-11-12_report-00-sektor_C4.txt',\n",
       " '2024-11-12_report-01-sektor_A1.txt',\n",
       " '2024-11-12_report-02-sektor_A3.txt',\n",
       " '2024-11-12_report-03-sektor_A3.txt',\n",
       " '2024-11-12_report-04-sektor_B2.txt',\n",
       " '2024-11-12_report-05-sektor_C1.txt',\n",
       " '2024-11-12_report-06-sektor_C2.txt',\n",
       " '2024-11-12_report-07-sektor_C4.txt',\n",
       " '2024-11-12_report-08-sektor_A1.txt',\n",
       " '2024-11-12_report-09-sektor_C2.txt',\n",
       " '2024-11-12_report-10-sektor-C1.mp3',\n",
       " '2024-11-12_report-11-sektor-C2.mp3',\n",
       " '2024-11-12_report-12-sektor_A1.mp3',\n",
       " '2024-11-12_report-13.png',\n",
       " '2024-11-12_report-14.png',\n",
       " '2024-11-12_report-15.png',\n",
       " '2024-11-12_report-16.png',\n",
       " '2024-11-12_report-17.png',\n",
       " '2024-11-12_report-99',\n",
       " 'weapons_tests.zip']"
      ]
     },
     "execution_count": 3,
     "metadata": {},
     "output_type": "execute_result"
    }
   ],
   "source": [
    "files"
   ]
  },
  {
   "cell_type": "code",
   "execution_count": 9,
   "metadata": {},
   "outputs": [],
   "source": [
    "# Function to encode the image\n",
    "def encode_image(image_path):\n",
    "  with open(image_path, \"rb\") as image_file:\n",
    "    return base64.b64encode(image_file.read()).decode('utf-8')"
   ]
  },
  {
   "cell_type": "code",
   "execution_count": 12,
   "metadata": {},
   "outputs": [],
   "source": [
    "base64_image = encode_image('pliki_z_fabryki/2024-11-12_report-13.png')"
   ]
  },
  {
   "cell_type": "code",
   "execution_count": 47,
   "metadata": {},
   "outputs": [],
   "source": [
    "def ask_image(image_path):\n",
    "  base64_image = encode_image(image_path) \n",
    "  response = client.chat.completions.create(\n",
    "    model=\"gpt-4o\",\n",
    "    messages=[\n",
    "      {\n",
    "        \"role\": \"user\",\n",
    "        \"content\": [\n",
    "          {\n",
    "            \"type\": \"text\",\n",
    "            \"text\": \"Wydobądź dla nas proszę tylko notatki zawierające informacje o schwytanych ludziach \\\n",
    "              lub o śladach ich obecności oraz o naprawionych usterkach hardwarowych (pomiń te związane z softem oraz pomiń katalog z faktami). \\\n",
    "              Odpowiedz tylko jednym słowem - Ludzie lub Urządzenia, jeśli notatka zawiera odpowiednie informacje. W przeciwnym wypadku odpowiedź - Pomiń.\"\n",
    "          },\n",
    "          {\n",
    "            \"type\": \"image_url\",\n",
    "            \"image_url\": {\n",
    "              \"url\":  f\"data:image/jpeg;base64,{base64_image}\"\n",
    "            },\n",
    "          },\n",
    "        ],\n",
    "      }\n",
    "    ],\n",
    "  )\n",
    "  answer = response.choices[0].message.content\n",
    "  return answer"
   ]
  },
  {
   "cell_type": "code",
   "execution_count": 48,
   "metadata": {},
   "outputs": [],
   "source": [
    "def ask_text(txt_path):\n",
    "    with open(txt_path, 'r') as f:\n",
    "        data = f.read()\n",
    "    response = client.chat.completions.create(\n",
    "        model=\"gpt-4o\",\n",
    "        messages=[\n",
    "            {\"role\": \"system\", \"content\": data},\n",
    "            {\"role\": \"user\", \"content\": \"Wydobądź dla nas proszę tylko notatki zawierające informacje o schwytanych ludziach \\\n",
    "              lub o śladach ich obecności oraz o naprawionych usterkach hardwarowych (pomiń te związane z softem oraz pomiń katalog z faktami). \\\n",
    "              Odpowiedz tylko jednym słowem - Ludzie lub Urządzenia, jeśli notatka zawiera odpowiednie informacje. W przeciwnym wypadku odpowiedź - Pomiń.\"}\n",
    "        ]\n",
    "    )\n",
    "    answer = response.choices[0].message.content\n",
    "    return answer"
   ]
  },
  {
   "cell_type": "code",
   "execution_count": 49,
   "metadata": {},
   "outputs": [],
   "source": [
    "def ask_audio(audio_path):\n",
    "    with open(audio_path, 'rb') as audio_file:\n",
    "        transcription = client.audio.transcriptions.create(\n",
    "            model=\"whisper-1\", \n",
    "            file=audio_file\n",
    "            )\n",
    "    response = client.chat.completions.create(\n",
    "    model=\"gpt-4o\",\n",
    "        messages=[\n",
    "            {\"role\": \"system\", \"content\": transcription.text},\n",
    "            {\"role\": \"user\", \"content\": \"Wydobądź dla nas proszę tylko notatki zawierające informacje o schwytanych ludziach \\\n",
    "              lub o śladach ich obecności oraz o naprawionych usterkach hardwarowych (pomiń te związane z softem oraz pomiń katalog z faktami). \\\n",
    "              Odpowiedz tylko jednym słowem - Ludzie lub Urządzenia, jeśli notatka zawiera odpowiednie informacje. W przeciwnym wypadku odpowiedź - Pomiń.\"}\n",
    "        ]\n",
    "    )\n",
    "    answer = response.choices[0].message.content\n",
    "    return answer"
   ]
  },
  {
   "cell_type": "code",
   "execution_count": 44,
   "metadata": {},
   "outputs": [
    {
     "data": {
      "text/plain": [
       "'Ludzie'"
      ]
     },
     "execution_count": 44,
     "metadata": {},
     "output_type": "execute_result"
    }
   ],
   "source": [
    "ask_audio('pliki_z_fabryki/2024-11-12_report-10-sektor-C1.mp3')"
   ]
  },
  {
   "cell_type": "code",
   "execution_count": 50,
   "metadata": {},
   "outputs": [],
   "source": [
    "def read_content(folder_path):\n",
    "    people = []\n",
    "    hardware = []\n",
    "    files = [f for f in os.listdir(folder_path) if os.path.isfile(os.path.join(folder_path, f))]\n",
    "    for file in tqdm(files):\n",
    "        file_path = os.path.join(folder_path, file)\n",
    "        if pathlib.Path(file_path).suffix == '.png':\n",
    "            answer = ask_image(file_path)\n",
    "        elif pathlib.Path(file_path).suffix == '.txt':\n",
    "            answer = ask_text(file_path)\n",
    "        elif pathlib.Path(file_path).suffix == '.mp3':\n",
    "            answer = ask_audio(file_path)\n",
    "        if answer.lower() == 'ludzie':\n",
    "            people.append(file)\n",
    "        elif answer.lower() == 'urządzenia':\n",
    "            hardware.append(file)\n",
    "        else:\n",
    "            print(f'File: {file} skipped')\n",
    "    return people, hardware"
   ]
  },
  {
   "cell_type": "code",
   "execution_count": 51,
   "metadata": {},
   "outputs": [
    {
     "name": "stderr",
     "output_type": "stream",
     "text": [
      " 10%|█         | 2/20 [00:01<00:10,  1.68it/s]"
     ]
    },
    {
     "name": "stdout",
     "output_type": "stream",
     "text": [
      "File: 2024-11-12_report-01-sektor_A1.txt skipped\n"
     ]
    },
    {
     "name": "stderr",
     "output_type": "stream",
     "text": [
      " 15%|█▌        | 3/20 [00:01<00:09,  1.72it/s]"
     ]
    },
    {
     "name": "stdout",
     "output_type": "stream",
     "text": [
      "File: 2024-11-12_report-02-sektor_A3.txt skipped\n"
     ]
    },
    {
     "name": "stderr",
     "output_type": "stream",
     "text": [
      " 20%|██        | 4/20 [00:02<00:09,  1.75it/s]"
     ]
    },
    {
     "name": "stdout",
     "output_type": "stream",
     "text": [
      "File: 2024-11-12_report-03-sektor_A3.txt skipped\n"
     ]
    },
    {
     "name": "stderr",
     "output_type": "stream",
     "text": [
      " 25%|██▌       | 5/20 [00:02<00:08,  1.83it/s]"
     ]
    },
    {
     "name": "stdout",
     "output_type": "stream",
     "text": [
      "File: 2024-11-12_report-04-sektor_B2.txt skipped\n"
     ]
    },
    {
     "name": "stderr",
     "output_type": "stream",
     "text": [
      " 30%|███       | 6/20 [00:03<00:07,  1.82it/s]"
     ]
    },
    {
     "name": "stdout",
     "output_type": "stream",
     "text": [
      "File: 2024-11-12_report-05-sektor_C1.txt skipped\n"
     ]
    },
    {
     "name": "stderr",
     "output_type": "stream",
     "text": [
      " 35%|███▌      | 7/20 [00:03<00:07,  1.82it/s]"
     ]
    },
    {
     "name": "stdout",
     "output_type": "stream",
     "text": [
      "File: 2024-11-12_report-06-sektor_C2.txt skipped\n"
     ]
    },
    {
     "name": "stderr",
     "output_type": "stream",
     "text": [
      " 45%|████▌     | 9/20 [00:04<00:05,  1.87it/s]"
     ]
    },
    {
     "name": "stdout",
     "output_type": "stream",
     "text": [
      "File: 2024-11-12_report-08-sektor_A1.txt skipped\n"
     ]
    },
    {
     "name": "stderr",
     "output_type": "stream",
     "text": [
      " 50%|█████     | 10/20 [00:05<00:05,  1.93it/s]"
     ]
    },
    {
     "name": "stdout",
     "output_type": "stream",
     "text": [
      "File: 2024-11-12_report-09-sektor_C2.txt skipped\n"
     ]
    },
    {
     "name": "stderr",
     "output_type": "stream",
     "text": [
      " 60%|██████    | 12/20 [00:10<00:13,  1.70s/it]"
     ]
    },
    {
     "name": "stdout",
     "output_type": "stream",
     "text": [
      "File: 2024-11-12_report-11-sektor-C2.mp3 skipped\n"
     ]
    },
    {
     "name": "stderr",
     "output_type": "stream",
     "text": [
      " 65%|██████▌   | 13/20 [00:14<00:16,  2.37s/it]"
     ]
    },
    {
     "name": "stdout",
     "output_type": "stream",
     "text": [
      "File: 2024-11-12_report-12-sektor_A1.mp3 skipped\n"
     ]
    },
    {
     "name": "stderr",
     "output_type": "stream",
     "text": [
      " 75%|███████▌  | 15/20 [00:20<00:13,  2.67s/it]"
     ]
    },
    {
     "name": "stdout",
     "output_type": "stream",
     "text": [
      "File: 2024-11-12_report-14.png skipped\n"
     ]
    },
    {
     "name": "stderr",
     "output_type": "stream",
     "text": [
      " 85%|████████▌ | 17/20 [00:27<00:09,  3.02s/it]"
     ]
    },
    {
     "name": "stdout",
     "output_type": "stream",
     "text": [
      "File: 2024-11-12_report-16.png skipped\n"
     ]
    },
    {
     "name": "stderr",
     "output_type": "stream",
     "text": [
      "100%|██████████| 20/20 [00:30<00:00,  1.52s/it]"
     ]
    },
    {
     "name": "stdout",
     "output_type": "stream",
     "text": [
      "File: 2024-11-12_report-17.png skipped\n",
      "File: 2024-11-12_report-99 skipped\n",
      "File: weapons_tests.zip skipped\n"
     ]
    },
    {
     "name": "stderr",
     "output_type": "stream",
     "text": [
      "\n"
     ]
    }
   ],
   "source": [
    "people, hardware = read_content('pliki_z_fabryki')"
   ]
  },
  {
   "cell_type": "code",
   "execution_count": 64,
   "metadata": {},
   "outputs": [
    {
     "data": {
      "text/plain": [
       "['2024-11-12_report-00-sektor_C4.txt',\n",
       " '2024-11-12_report-07-sektor_C4.txt',\n",
       " '2024-11-12_report-10-sektor-C1.mp3']"
      ]
     },
     "execution_count": 64,
     "metadata": {},
     "output_type": "execute_result"
    }
   ],
   "source": [
    "people"
   ]
  },
  {
   "cell_type": "code",
   "execution_count": 63,
   "metadata": {},
   "outputs": [
    {
     "data": {
      "text/plain": [
       "['2024-11-12_report-13.png', '2024-11-12_report-15.png']"
      ]
     },
     "execution_count": 63,
     "metadata": {},
     "output_type": "execute_result"
    }
   ],
   "source": [
    "hardware"
   ]
  },
  {
   "cell_type": "code",
   "execution_count": 79,
   "metadata": {},
   "outputs": [],
   "source": [
    "solution_response = {\n",
    "   \"task\": \"kategorie\",\n",
    "   \"apikey\": os.getenv('AI_DEVS_3_API_KEY'),\n",
    "   \"answer\": {\n",
    "       \"people\": people,\n",
    "       \"hardware\": ['2024-11-12_report-13.png', '2024-11-12_report-15.png', '2024-11-12_report-17.png'],\n",
    "   }\n",
    "}"
   ]
  },
  {
   "cell_type": "code",
   "execution_count": 80,
   "metadata": {},
   "outputs": [],
   "source": [
    "response = requests.post('https://centrala.ag3nts.org/report', json=solution_response)"
   ]
  },
  {
   "cell_type": "code",
   "execution_count": 81,
   "metadata": {},
   "outputs": [
    {
     "data": {
      "text/plain": [
       "<Response [200]>"
      ]
     },
     "execution_count": 81,
     "metadata": {},
     "output_type": "execute_result"
    }
   ],
   "source": [
    "response"
   ]
  },
  {
   "cell_type": "code",
   "execution_count": 82,
   "metadata": {},
   "outputs": [
    {
     "data": {
      "text/plain": [
       "{'code': 0, 'message': '{{FLG:KLASYFIKACJA}}'}"
      ]
     },
     "execution_count": 82,
     "metadata": {},
     "output_type": "execute_result"
    }
   ],
   "source": [
    "response.json()"
   ]
  },
  {
   "cell_type": "code",
   "execution_count": null,
   "metadata": {},
   "outputs": [],
   "source": []
  }
 ],
 "metadata": {
  "kernelspec": {
   "display_name": "AI_DEVS_3_ENV",
   "language": "python",
   "name": "python3"
  },
  "language_info": {
   "codemirror_mode": {
    "name": "ipython",
    "version": 3
   },
   "file_extension": ".py",
   "mimetype": "text/x-python",
   "name": "python",
   "nbconvert_exporter": "python",
   "pygments_lexer": "ipython3",
   "version": "3.13.0"
  }
 },
 "nbformat": 4,
 "nbformat_minor": 2
}
