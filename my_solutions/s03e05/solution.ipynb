{
 "cells": [
  {
   "cell_type": "code",
   "execution_count": 3,
   "metadata": {},
   "outputs": [],
   "source": [
    "import requests\n",
    "import openai\n",
    "from openai import OpenAI\n",
    "from dotenv import load_dotenv\n",
    "import os\n",
    "import zipfile\n",
    "from tqdm import tqdm\n",
    "import base64\n",
    "import pathlib"
   ]
  },
  {
   "cell_type": "code",
   "execution_count": 2,
   "metadata": {},
   "outputs": [
    {
     "data": {
      "text/plain": [
       "True"
      ]
     },
     "execution_count": 2,
     "metadata": {},
     "output_type": "execute_result"
    }
   ],
   "source": [
    "load_dotenv()"
   ]
  },
  {
   "cell_type": "code",
   "execution_count": 9,
   "metadata": {},
   "outputs": [],
   "source": [
    "response = requests.post('https://centrala.ag3nts.org/apidb', json={\n",
    "    \"task\": \"database\",\n",
    "    \"apikey\": os.getenv('AI_DEVS_3_API_KEY'),\n",
    "    \"query\": f\"select * from connections\"\n",
    "})"
   ]
  },
  {
   "cell_type": "code",
   "execution_count": 10,
   "metadata": {},
   "outputs": [
    {
     "data": {
      "text/plain": [
       "<Response [200]>"
      ]
     },
     "execution_count": 10,
     "metadata": {},
     "output_type": "execute_result"
    }
   ],
   "source": [
    "response"
   ]
  },
  {
   "cell_type": "code",
   "execution_count": 14,
   "metadata": {},
   "outputs": [
    {
     "name": "stdout",
     "output_type": "stream",
     "text": [
      "^C\n"
     ]
    },
    {
     "name": "stdout",
     "output_type": "stream",
     "text": [
      "Collecting pandas\n",
      "  Downloading pandas-2.2.3-cp313-cp313-win_amd64.whl.metadata (19 kB)\n",
      "Requirement already satisfied: numpy>=1.26.0 in c:\\programdata\\anaconda3\\envs\\ai_devs_3_env\\lib\\site-packages (from pandas) (2.1.3)\n",
      "Requirement already satisfied: python-dateutil>=2.8.2 in c:\\programdata\\anaconda3\\envs\\ai_devs_3_env\\lib\\site-packages (from pandas) (2.9.0)\n",
      "Collecting pytz>=2020.1 (from pandas)\n",
      "  Downloading pytz-2024.2-py2.py3-none-any.whl.metadata (22 kB)\n",
      "Collecting tzdata>=2022.7 (from pandas)\n",
      "  Downloading tzdata-2024.2-py2.py3-none-any.whl.metadata (1.4 kB)\n",
      "Requirement already satisfied: six>=1.5 in c:\\programdata\\anaconda3\\envs\\ai_devs_3_env\\lib\\site-packages (from python-dateutil>=2.8.2->pandas) (1.16.0)\n",
      "Downloading pandas-2.2.3-cp313-cp313-win_amd64.whl (11.5 MB)\n",
      "   ---------------------------------------- 0.0/11.5 MB ? eta -:--:--\n",
      "    --------------------------------------- 0.3/11.5 MB ? eta -:--:--\n",
      "   - -------------------------------------- 0.5/11.5 MB 1.6 MB/s eta 0:00:08\n",
      "   -- ------------------------------------- 0.8/11.5 MB 1.0 MB/s eta 0:00:11\n",
      "   --- ------------------------------------ 1.0/11.5 MB 1.3 MB/s eta 0:00:09\n",
      "   ----- ---------------------------------- 1.6/11.5 MB 1.5 MB/s eta 0:00:07\n",
      "   ------ --------------------------------- 1.8/11.5 MB 1.5 MB/s eta 0:00:07\n",
      "   ------- -------------------------------- 2.1/11.5 MB 1.5 MB/s eta 0:00:07\n",
      "   -------- ------------------------------- 2.4/11.5 MB 1.5 MB/s eta 0:00:07\n",
      "   --------- ------------------------------ 2.6/11.5 MB 1.5 MB/s eta 0:00:07\n",
      "   ---------- ----------------------------- 2.9/11.5 MB 1.4 MB/s eta 0:00:07\n",
      "   ---------- ----------------------------- 2.9/11.5 MB 1.4 MB/s eta 0:00:07\n",
      "   ---------- ----------------------------- 3.1/11.5 MB 1.2 MB/s eta 0:00:07\n",
      "   ---------- ----------------------------- 3.1/11.5 MB 1.2 MB/s eta 0:00:07\n",
      "   ----------- ---------------------------- 3.4/11.5 MB 1.1 MB/s eta 0:00:08\n",
      "   ----------- ---------------------------- 3.4/11.5 MB 1.1 MB/s eta 0:00:08\n",
      "   ------------ --------------------------- 3.7/11.5 MB 1.1 MB/s eta 0:00:08\n",
      "   ------------ --------------------------- 3.7/11.5 MB 1.1 MB/s eta 0:00:08\n",
      "   ------------- -------------------------- 3.9/11.5 MB 1.0 MB/s eta 0:00:08\n",
      "   -------------- ------------------------- 4.2/11.5 MB 995.6 kB/s eta 0:00:08\n",
      "   -------------- ------------------------- 4.2/11.5 MB 995.6 kB/s eta 0:00:08\n",
      "   --------------- ------------------------ 4.5/11.5 MB 966.2 kB/s eta 0:00:08\n",
      "   --------------- ------------------------ 4.5/11.5 MB 966.2 kB/s eta 0:00:08\n",
      "   ---------------- ----------------------- 4.7/11.5 MB 938.9 kB/s eta 0:00:08\n",
      "   ---------------- ----------------------- 4.7/11.5 MB 938.9 kB/s eta 0:00:08\n",
      "   ----------------- ---------------------- 5.0/11.5 MB 922.1 kB/s eta 0:00:08\n",
      "   ----------------- ---------------------- 5.0/11.5 MB 922.1 kB/s eta 0:00:08\n",
      "   ------------------ --------------------- 5.2/11.5 MB 910.6 kB/s eta 0:00:07\n",
      "   ------------------ --------------------- 5.2/11.5 MB 910.6 kB/s eta 0:00:07\n",
      "   ------------------- -------------------- 5.5/11.5 MB 868.7 kB/s eta 0:00:07\n",
      "   ------------------- -------------------- 5.5/11.5 MB 868.7 kB/s eta 0:00:07\n",
      "   -------------------- ------------------- 5.8/11.5 MB 864.5 kB/s eta 0:00:07\n",
      "   --------------------- ------------------ 6.0/11.5 MB 864.4 kB/s eta 0:00:07\n",
      "   --------------------- ------------------ 6.0/11.5 MB 864.4 kB/s eta 0:00:07\n",
      "   --------------------- ------------------ 6.3/11.5 MB 865.1 kB/s eta 0:00:06\n",
      "   ---------------------- ----------------- 6.6/11.5 MB 864.5 kB/s eta 0:00:06\n",
      "   ---------------------- ----------------- 6.6/11.5 MB 864.5 kB/s eta 0:00:06\n",
      "   ----------------------- ---------------- 6.8/11.5 MB 861.5 kB/s eta 0:00:06\n",
      "   ------------------------ --------------- 7.1/11.5 MB 860.8 kB/s eta 0:00:06\n",
      "   ------------------------ --------------- 7.1/11.5 MB 860.8 kB/s eta 0:00:06\n",
      "   ------------------------- -------------- 7.3/11.5 MB 857.4 kB/s eta 0:00:05\n",
      "   -------------------------- ------------- 7.6/11.5 MB 858.3 kB/s eta 0:00:05\n",
      "   -------------------------- ------------- 7.6/11.5 MB 858.3 kB/s eta 0:00:05\n",
      "   --------------------------- ------------ 7.9/11.5 MB 855.5 kB/s eta 0:00:05\n",
      "   ---------------------------- ----------- 8.1/11.5 MB 857.1 kB/s eta 0:00:04\n",
      "   ----------------------------- ---------- 8.4/11.5 MB 862.1 kB/s eta 0:00:04\n",
      "   ------------------------------ --------- 8.7/11.5 MB 867.6 kB/s eta 0:00:04\n",
      "   ------------------------------- -------- 8.9/11.5 MB 872.4 kB/s eta 0:00:03\n",
      "   ------------------------------- -------- 8.9/11.5 MB 872.4 kB/s eta 0:00:03\n",
      "   ------------------------------- -------- 9.2/11.5 MB 876.6 kB/s eta 0:00:03\n",
      "   -------------------------------- ------- 9.4/11.5 MB 871.2 kB/s eta 0:00:03\n",
      "   -------------------------------- ------- 9.4/11.5 MB 871.2 kB/s eta 0:00:03\n",
      "   -------------------------------- ------- 9.4/11.5 MB 871.2 kB/s eta 0:00:03\n",
      "   --------------------------------- ------ 9.7/11.5 MB 855.6 kB/s eta 0:00:03\n",
      "   --------------------------------- ------ 9.7/11.5 MB 855.6 kB/s eta 0:00:03\n",
      "   --------------------------------- ------ 9.7/11.5 MB 855.6 kB/s eta 0:00:03\n",
      "   ---------------------------------- ----- 10.0/11.5 MB 823.8 kB/s eta 0:00:02\n",
      "   ---------------------------------- ----- 10.0/11.5 MB 823.8 kB/s eta 0:00:02\n",
      "   ---------------------------------- ----- 10.0/11.5 MB 823.8 kB/s eta 0:00:02\n",
      "   ----------------------------------- ---- 10.2/11.5 MB 800.4 kB/s eta 0:00:02\n",
      "   ----------------------------------- ---- 10.2/11.5 MB 800.4 kB/s eta 0:00:02\n",
      "   ------------------------------------ --- 10.5/11.5 MB 795.3 kB/s eta 0:00:02\n",
      "   ------------------------------------ --- 10.5/11.5 MB 795.3 kB/s eta 0:00:02\n",
      "   ------------------------------------- -- 10.7/11.5 MB 793.8 kB/s eta 0:00:01\n",
      "   -------------------------------------- - 11.0/11.5 MB 792.7 kB/s eta 0:00:01\n",
      "   ---------------------------------------  11.3/11.5 MB 797.0 kB/s eta 0:00:01\n",
      "   ---------------------------------------  11.3/11.5 MB 797.0 kB/s eta 0:00:01\n",
      "   ---------------------------------------- 11.5/11.5 MB 799.2 kB/s eta 0:00:00\n",
      "Downloading pytz-2024.2-py2.py3-none-any.whl (508 kB)\n",
      "Downloading tzdata-2024.2-py2.py3-none-any.whl (346 kB)\n",
      "Installing collected packages: pytz, tzdata, pandas\n",
      "Successfully installed pandas-2.2.3 pytz-2024.2 tzdata-2024.2\n"
     ]
    }
   ],
   "source": [
    "!pip install pandas"
   ]
  },
  {
   "cell_type": "code",
   "execution_count": 16,
   "metadata": {},
   "outputs": [],
   "source": [
    "import pandas as pd\n",
    "pd.DataFrame(response.json()['reply']).to_csv('collections.csv', index=False)"
   ]
  },
  {
   "cell_type": "code",
   "execution_count": 17,
   "metadata": {},
   "outputs": [],
   "source": [
    "response = requests.post('https://centrala.ag3nts.org/apidb', json={\n",
    "    \"task\": \"database\",\n",
    "    \"apikey\": os.getenv('AI_DEVS_3_API_KEY'),\n",
    "    \"query\": f\"select * from users\"\n",
    "})"
   ]
  },
  {
   "cell_type": "code",
   "execution_count": 18,
   "metadata": {},
   "outputs": [],
   "source": [
    "pd.DataFrame(response.json()['reply']).to_csv('users.csv', index=False)"
   ]
  },
  {
   "cell_type": "code",
   "execution_count": 1,
   "metadata": {},
   "outputs": [],
   "source": [
    "shortest_path = ['Rafał', 'Azazel', 'Aleksander', 'Barbara']"
   ]
  },
  {
   "cell_type": "code",
   "execution_count": 8,
   "metadata": {},
   "outputs": [],
   "source": [
    "solution_response = {\n",
    "   \"task\": \"connections\",\n",
    "   \"apikey\": os.getenv('AI_DEVS_3_API_KEY'),\n",
    "   \"answer\": 'Rafał, Azazel, Aleksander, Barbara'\n",
    "}"
   ]
  },
  {
   "cell_type": "code",
   "execution_count": 9,
   "metadata": {},
   "outputs": [],
   "source": [
    "response = requests.post('https://centrala.ag3nts.org/report', json=solution_response)"
   ]
  },
  {
   "cell_type": "code",
   "execution_count": 10,
   "metadata": {},
   "outputs": [
    {
     "data": {
      "text/plain": [
       "<Response [200]>"
      ]
     },
     "execution_count": 10,
     "metadata": {},
     "output_type": "execute_result"
    }
   ],
   "source": [
    "response"
   ]
  },
  {
   "cell_type": "code",
   "execution_count": 11,
   "metadata": {},
   "outputs": [
    {
     "data": {
      "text/plain": [
       "{'code': 0, 'message': '{{FLG:SPYWEB}}'}"
      ]
     },
     "execution_count": 11,
     "metadata": {},
     "output_type": "execute_result"
    }
   ],
   "source": [
    "response.json()"
   ]
  },
  {
   "cell_type": "code",
   "execution_count": null,
   "metadata": {},
   "outputs": [],
   "source": []
  }
 ],
 "metadata": {
  "kernelspec": {
   "display_name": "AI_DEVS_3_ENV",
   "language": "python",
   "name": "python3"
  },
  "language_info": {
   "codemirror_mode": {
    "name": "ipython",
    "version": 3
   },
   "file_extension": ".py",
   "mimetype": "text/x-python",
   "name": "python",
   "nbconvert_exporter": "python",
   "pygments_lexer": "ipython3",
   "version": "3.13.0"
  }
 },
 "nbformat": 4,
 "nbformat_minor": 2
}
