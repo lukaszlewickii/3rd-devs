{
 "cells": [
  {
   "cell_type": "code",
   "execution_count": 1,
   "metadata": {},
   "outputs": [],
   "source": [
    "import requests\n",
    "import openai\n",
    "from openai import OpenAI\n",
    "from dotenv import load_dotenv\n",
    "import os\n",
    "import zipfile\n",
    "from tqdm import tqdm\n",
    "import base64\n",
    "import pathlib"
   ]
  },
  {
   "cell_type": "code",
   "execution_count": 2,
   "metadata": {},
   "outputs": [
    {
     "data": {
      "text/plain": [
       "True"
      ]
     },
     "execution_count": 2,
     "metadata": {},
     "output_type": "execute_result"
    }
   ],
   "source": [
    "load_dotenv()"
   ]
  },
  {
   "cell_type": "code",
   "execution_count": 3,
   "metadata": {},
   "outputs": [],
   "source": [
    "client = OpenAI()"
   ]
  },
  {
   "cell_type": "code",
   "execution_count": null,
   "metadata": {},
   "outputs": [
    {
     "data": {
      "text/plain": [
       "['2024_01_08.txt',\n",
       " '2024_01_17.txt',\n",
       " '2024_01_27.txt',\n",
       " '2024_01_29.txt',\n",
       " '2024_02_01.txt',\n",
       " '2024_02_11.txt',\n",
       " '2024_02_15.txt',\n",
       " '2024_02_21.txt',\n",
       " '2024_03_02.txt',\n",
       " '2024_03_12.txt',\n",
       " '2024_03_15.txt',\n",
       " '2024_03_18.txt',\n",
       " '2024_03_19.txt',\n",
       " '2024_03_25.txt',\n",
       " '2024_03_29.txt',\n",
       " '2024_03_31.txt',\n",
       " '2024_04_18.txt',\n",
       " '2024_04_27.txt',\n",
       " '2024_05_08.txt',\n",
       " '2024_05_14.txt',\n",
       " '2024_05_31.txt',\n",
       " '2024_06_02.txt',\n",
       " '2024_07_05.txt']"
      ]
     },
     "execution_count": 5,
     "metadata": {},
     "output_type": "execute_result"
    }
   ],
   "source": [
    "os.listdir('pliki_z_fabryki/weapons_tests/do-not-share/2024_01_08.txt')"
   ]
  },
  {
   "cell_type": "code",
   "execution_count": 11,
   "metadata": {},
   "outputs": [],
   "source": [
    "with open('pliki_z_fabryki/weapons_tests/do-not-share/2024_01_08.txt', 'r') as f:\n",
    "    text = f.read().replace('\\n', '')"
   ]
  },
  {
   "cell_type": "code",
   "execution_count": null,
   "metadata": {},
   "outputs": [],
   "source": [
    "def get_text_embedding(txt_path):\n",
    "    with open(txt_path, 'r') as f:\n",
    "        text = f.read().replace('\\n', '')\n",
    "    response = client.embeddings.create(\n",
    "        input=text,\n",
    "        model=\"text-embedding-3-small\"\n",
    "    )\n",
    "    return response.data[0].embedding"
   ]
  },
  {
   "cell_type": "code",
   "execution_count": 23,
   "metadata": {},
   "outputs": [
    {
     "data": {
      "text/plain": [
       "'2024_01_08.txt'"
      ]
     },
     "execution_count": 23,
     "metadata": {},
     "output_type": "execute_result"
    }
   ],
   "source": [
    "os.path.basename('pliki_z_fabryki/weapons_tests/do-not-share/2024_01_08.txt')"
   ]
  },
  {
   "cell_type": "code",
   "execution_count": 25,
   "metadata": {},
   "outputs": [
    {
     "name": "stderr",
     "output_type": "stream",
     "text": [
      "100%|██████████| 23/23 [00:16<00:00,  1.42it/s]\n"
     ]
    }
   ],
   "source": [
    "# Tworzenie embeddingów i indeksowanie\n",
    "index = []\n",
    "for report in tqdm(os.listdir('pliki_z_fabryki/weapons_tests/do-not-share/')):\n",
    "    path = os.path.join('pliki_z_fabryki/weapons_tests/do-not-share/', report)\n",
    "    embedding = get_text_embedding(path)\n",
    "    index.append({\"id\": report, \"embedding\": embedding, \"metadata\": report})"
   ]
  },
  {
   "cell_type": "code",
   "execution_count": 27,
   "metadata": {},
   "outputs": [],
   "source": [
    "query = \"W raporcie, z którego dnia znajduje się wzmianka o kradzieży prototypu broni?\""
   ]
  },
  {
   "cell_type": "code",
   "execution_count": 28,
   "metadata": {},
   "outputs": [],
   "source": [
    "query_embedding = client.embeddings.create(\n",
    "    input=query,\n",
    "    model=\"text-embedding-3-small\"\n",
    ").data[0].embedding"
   ]
  },
  {
   "cell_type": "code",
   "execution_count": 31,
   "metadata": {},
   "outputs": [],
   "source": [
    "import numpy as np\n",
    "from datetime import datetime\n",
    "from sklearn.metrics.pairwise import cosine_similarity"
   ]
  },
  {
   "cell_type": "code",
   "execution_count": 32,
   "metadata": {},
   "outputs": [],
   "source": [
    "similarities = []\n",
    "for item in index:\n",
    "    similarity = cosine_similarity(\n",
    "        [query_embedding], [item[\"embedding\"]]\n",
    "    )[0][0]\n",
    "    similarities.append({\"id\": item[\"id\"], \"similarity\": similarity, \"metadata\": item[\"metadata\"]})"
   ]
  },
  {
   "cell_type": "code",
   "execution_count": 34,
   "metadata": {},
   "outputs": [],
   "source": [
    "similarities = sorted(similarities, key=lambda x: x[\"similarity\"], reverse=True)"
   ]
  },
  {
   "cell_type": "code",
   "execution_count": 38,
   "metadata": {},
   "outputs": [
    {
     "data": {
      "text/plain": [
       "{'id': '2024_02_21.txt',\n",
       " 'similarity': np.float64(0.5604677405414169),\n",
       " 'metadata': '2024_02_21.txt'}"
      ]
     },
     "execution_count": 38,
     "metadata": {},
     "output_type": "execute_result"
    }
   ],
   "source": [
    "similarities[0]"
   ]
  },
  {
   "cell_type": "code",
   "execution_count": 45,
   "metadata": {},
   "outputs": [
    {
     "data": {
      "text/plain": [
       "'2024-02-21'"
      ]
     },
     "execution_count": 45,
     "metadata": {},
     "output_type": "execute_result"
    }
   ],
   "source": [
    "similarities[0]['id'].split('.')[0].replace('_','-')"
   ]
  },
  {
   "cell_type": "code",
   "execution_count": 46,
   "metadata": {},
   "outputs": [],
   "source": [
    "solution_response = {\n",
    "   \"task\": \"wektory\",\n",
    "   \"apikey\": os.getenv('AI_DEVS_3_API_KEY'),\n",
    "   \"answer\": similarities[0]['id'].split('.')[0].replace('_','-')\n",
    "}"
   ]
  },
  {
   "cell_type": "code",
   "execution_count": 47,
   "metadata": {},
   "outputs": [],
   "source": [
    "response = requests.post('https://centrala.ag3nts.org/report', json=solution_response)"
   ]
  },
  {
   "cell_type": "code",
   "execution_count": 48,
   "metadata": {},
   "outputs": [
    {
     "data": {
      "text/plain": [
       "<Response [200]>"
      ]
     },
     "execution_count": 48,
     "metadata": {},
     "output_type": "execute_result"
    }
   ],
   "source": [
    "response"
   ]
  },
  {
   "cell_type": "code",
   "execution_count": 49,
   "metadata": {},
   "outputs": [
    {
     "data": {
      "text/plain": [
       "{'code': 0, 'message': '{{FLG:ZLODZIEJ}}'}"
      ]
     },
     "execution_count": 49,
     "metadata": {},
     "output_type": "execute_result"
    }
   ],
   "source": [
    "response.json()"
   ]
  },
  {
   "cell_type": "code",
   "execution_count": null,
   "metadata": {},
   "outputs": [],
   "source": []
  }
 ],
 "metadata": {
  "kernelspec": {
   "display_name": "AI_DEVS_3_ENV",
   "language": "python",
   "name": "python3"
  },
  "language_info": {
   "codemirror_mode": {
    "name": "ipython",
    "version": 3
   },
   "file_extension": ".py",
   "mimetype": "text/x-python",
   "name": "python",
   "nbconvert_exporter": "python",
   "pygments_lexer": "ipython3",
   "version": "3.13.0"
  }
 },
 "nbformat": 4,
 "nbformat_minor": 2
}
