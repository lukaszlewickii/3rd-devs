{
 "cells": [
  {
   "cell_type": "code",
   "execution_count": 1,
   "metadata": {},
   "outputs": [],
   "source": [
    "import requests\n",
    "import openai\n",
    "from openai import OpenAI\n",
    "from dotenv import load_dotenv\n",
    "import os\n",
    "import zipfile\n",
    "from tqdm import tqdm\n",
    "import base64\n",
    "import pathlib"
   ]
  },
  {
   "cell_type": "code",
   "execution_count": 2,
   "metadata": {},
   "outputs": [
    {
     "data": {
      "text/plain": [
       "True"
      ]
     },
     "execution_count": 2,
     "metadata": {},
     "output_type": "execute_result"
    }
   ],
   "source": [
    "load_dotenv()"
   ]
  },
  {
   "cell_type": "code",
   "execution_count": 3,
   "metadata": {},
   "outputs": [],
   "source": [
    "client = OpenAI()"
   ]
  },
  {
   "cell_type": "code",
   "execution_count": 4,
   "metadata": {},
   "outputs": [],
   "source": [
    "texts = {}\n",
    "facts = []\n",
    "\n",
    "# Ścieżka do folderów\n",
    "reports_folder = 'materials'\n",
    "facts_folder = 'materials/facts'\n",
    "\n",
    "# Załaduj pliki raportów\n",
    "for filename in os.listdir(reports_folder):\n",
    "    if filename.endswith('.txt'):\n",
    "        with open(os.path.join(reports_folder, filename), 'r', encoding='utf-8') as f:\n",
    "            texts[filename] = f.read()\n",
    "\n",
    "# Załaduj fakty\n",
    "for filename in os.listdir(facts_folder):\n",
    "    if filename.endswith('.txt'):\n",
    "        with open(os.path.join(facts_folder, filename), 'r', encoding='utf-8') as f:\n",
    "            facts.append(f.read())\n",
    "\n",
    "# Połącz wszystkie fakty w jedną zmienną tekstową\n",
    "facts_context = \"\\n\".join(facts)"
   ]
  },
  {
   "cell_type": "code",
   "execution_count": 56,
   "metadata": {},
   "outputs": [],
   "source": [
    "# Usuń wszystkie wiersze zawierające \"entry deleted\"\n",
    "facts_filtered = [fact for fact in facts if \"entry deleted\" not in fact]\n",
    "\n",
    "# Połącz fakty w jeden tekst, po usunięciu niechcianych wierszy\n",
    "facts_context = \"\\n\".join(facts_filtered)"
   ]
  },
  {
   "cell_type": "code",
   "execution_count": 146,
   "metadata": {},
   "outputs": [],
   "source": [
    "def ask_text(report_text, facts_text):\n",
    "    response = client.chat.completions.create(\n",
    "        model=\"gpt-4o\",\n",
    "        messages=[\n",
    "            {\"role\": \"system\", \"content\": f'Treść raportu: {report_text}'},\n",
    "            # {\"role\": \"system\", \"content\": f'Oto dodatkowe fakty, które mogą pomóc w zrozumieniu kontekstu: {facts_text}'},\n",
    "            {\"role\": \"user\", \"content\": \"Wygeneruj słowa kluczowe w formie mianownika. \\\n",
    "            Oddziel słowa przecinkami. Nie pomijaj żadnych istotnych informacji, osób, nauczycieli czy zwierząt, ani info o odciskach Zawadzkiej, gdzie zostały odnalezione.\\\n",
    "            Przy generowaniu metadanych posiłkuj się całą posiadaną wiedzą wraz z dodatkowymi faktami.\"}\n",
    "        ]\n",
    "    )\n",
    "    answer = response.choices[0].message.content\n",
    "    return answer"
   ]
  },
  {
   "cell_type": "code",
   "execution_count": 147,
   "metadata": {},
   "outputs": [],
   "source": [
    "keywords = {}\n",
    "for filename, text in texts.items():\n",
    "    keywords[filename] = ask_text(text, facts_context)"
   ]
  },
  {
   "cell_type": "code",
   "execution_count": 149,
   "metadata": {},
   "outputs": [
    {
     "data": {
      "text/plain": [
       "{'2024-11-12_report-00-sektor_C4.txt': 'Godzina, jednostka, północne skrzydło, fabryka, Aleksander Ragowski, skan biometryczny, baza danych, dział kontroli, patrol.',\n",
       " '2024-11-12_report-01-sektor_A1.txt': 'Godzina, alarm, wykrycie, ruch, organizm, analiza, wizualizacja, sensoryka, obecność, zwierzyna, leśna, fałszywy alarm, obszar, bezpieczeństwo, trasa, patrol, spokój.',\n",
       " '2024-11-12_report-02-sektor_A3.txt': 'godzina, obszar, patrol, noc, aktywność, organiczność, mechanika, monitoring, peryferia, obiekt, zadania, kontynuacja',\n",
       " '2024-11-12_report-03-sektor_A3.txt': 'Godzina, Patrole, Noc, Poziom, Czujniki, Wytyczne, Wykrywanie, Życie organiczne, Rezultaty, Stan, Zakłócenia',\n",
       " '2024-11-12_report-04-sektor_B2.txt': 'godzina, patrol, zachód, teren, anomalie, odchylenia, norma, sektor, bezpieczeństwo, kanały komunikacyjne, punkt, Zawadzka, odciski',\n",
       " '2024-11-12_report-05-sektor_C1.txt': 'godzina, aktywność, organiczna, technologiczna, sensor, dźwięk, detektor, ruch, gotowość, sygnał, patrol, monitorowanie',\n",
       " '2024-11-12_report-06-sektor_C2.txt': 'godzina, sektor, północny zachód, spokój, stan, obszar, stabilność, skanery, temperatura, ruch, wykrycie, jednostka, operacyjność, patrol',\n",
       " '2024-11-12_report-07-sektor_C4.txt': 'Czujniki dźwięku, ultradźwiękowy sygnał, nadajnik, zielone krzaki, las, analiza obiektu, odciski palców, Barbara Zawadzka, baza urodzeń, dział śledczy, obszar zabezpieczony, patrol.',\n",
       " '2024-11-12_report-08-sektor_A1.txt': 'godzina, monitoring, obszar, patrol, ruch, cisza, czujniki, aktywność, obserwacja, teren, wytyczne',\n",
       " '2024-11-12_report-09-sektor_C2.txt': 'godzina, patrol, peryferie, zachód, czujniki, sygnały, obszar, anomalie, cykl, sektor'}"
      ]
     },
     "execution_count": 149,
     "metadata": {},
     "output_type": "execute_result"
    }
   ],
   "source": [
    "keywords"
   ]
  },
  {
   "cell_type": "code",
   "execution_count": 179,
   "metadata": {},
   "outputs": [],
   "source": [
    "solution_response = {\n",
    "   \"task\": \"dokumenty\",\n",
    "   \"apikey\": os.getenv('AI_DEVS_3_API_KEY'),\n",
    "   \"answer\": {\n",
    "  \"2024-11-12_report-00-sektor_C4.txt\": \"jednostka organiczna, Aleksander Ragowski, nauczyciel, skan biometryczny, północne skrzydło fabryki, dział kontroli, opozycja\",\n",
    "  \"2024-11-12_report-01-sektor_A1.txt\": \"ruch organiczny, alarm fałszywy, lokalna zwierzyna leśna, sektor A1, bezpieczeństwo\",\n",
    "  \"2024-11-12_report-02-sektor_A3.txt\": \"monitoring, brak aktywności, obszar patrolowy, nocny patrol, sektor A3, peryferie\",\n",
    "  \"2024-11-12_report-03-sektor_A3.txt\": \"nocne patrole, brak życia organicznego, czujniki aktywne, monitoring, cisza, sektor A3\",\n",
    "  \"2024-11-12_report-04-sektor_B2.txt\": \"zachodni teren, brak anomalii, komunikacja, sektor B2, bezpieczeństwo\",\n",
    "  \"2024-11-12_report-05-sektor_C1.txt\": \"czujniki ruchu, brak aktywności, monitoring dźwiękowy, sektor C1, patrol\",\n",
    "  \"2024-11-12_report-06-sektor_C2.txt\": \"sektor północno-zachodni, skanery temperatury, brak wykrycia, patrol, sektor C2\",\n",
    "  \"2024-11-12_report-07-sektor_C4.txt\": \"ultradźwiękowy sygnał, nadajnik, Barbara Zawadzka, odciski palców, sektor C4, JavaScript, frontend, programista, ruch oporu, dział śledczy, zabezpieczenie\",\n",
    "  \"2024-11-12_report-08-sektor_A1.txt\": \"monitoring, brak ruchu, sektor A1, cisza, brak aktywności\",\n",
    "  \"2024-11-12_report-09-sektor_C2.txt\": \"peryferie zachodnie, czujniki, brak sygnałów, sektor C2, zakończenie cyklu, bezpieczeństwo\"\n",
    "}\n",
    "\n",
    "}"
   ]
  },
  {
   "cell_type": "code",
   "execution_count": 180,
   "metadata": {},
   "outputs": [],
   "source": [
    "response = requests.post('https://centrala.ag3nts.org/report', json=solution_response)"
   ]
  },
  {
   "cell_type": "code",
   "execution_count": 181,
   "metadata": {},
   "outputs": [
    {
     "data": {
      "text/plain": [
       "<Response [200]>"
      ]
     },
     "execution_count": 181,
     "metadata": {},
     "output_type": "execute_result"
    }
   ],
   "source": [
    "response"
   ]
  },
  {
   "cell_type": "code",
   "execution_count": 182,
   "metadata": {},
   "outputs": [
    {
     "data": {
      "text/plain": [
       "{'code': 0, 'message': '{{FLG:NOWYOUKNOW}}'}"
      ]
     },
     "execution_count": 182,
     "metadata": {},
     "output_type": "execute_result"
    }
   ],
   "source": [
    "response.json()"
   ]
  }
 ],
 "metadata": {
  "kernelspec": {
   "display_name": "AI_DEVS_3_ENV",
   "language": "python",
   "name": "python3"
  },
  "language_info": {
   "codemirror_mode": {
    "name": "ipython",
    "version": 3
   },
   "file_extension": ".py",
   "mimetype": "text/x-python",
   "name": "python",
   "nbconvert_exporter": "python",
   "pygments_lexer": "ipython3",
   "version": "3.13.0"
  }
 },
 "nbformat": 4,
 "nbformat_minor": 2
}
