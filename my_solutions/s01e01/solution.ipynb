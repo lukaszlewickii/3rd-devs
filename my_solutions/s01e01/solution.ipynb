{
 "cells": [
  {
   "cell_type": "code",
   "execution_count": 1,
   "metadata": {},
   "outputs": [
    {
     "name": "stdout",
     "output_type": "stream",
     "text": [
      "Collecting openai\n",
      "  Downloading openai-1.54.2-py3-none-any.whl.metadata (24 kB)\n",
      "Collecting anyio<5,>=3.5.0 (from openai)\n",
      "  Downloading anyio-4.6.2.post1-py3-none-any.whl.metadata (4.7 kB)\n",
      "Collecting distro<2,>=1.7.0 (from openai)\n",
      "  Downloading distro-1.9.0-py3-none-any.whl.metadata (6.8 kB)\n",
      "Collecting httpx<1,>=0.23.0 (from openai)\n",
      "  Downloading httpx-0.27.2-py3-none-any.whl.metadata (7.1 kB)\n",
      "Collecting jiter<1,>=0.4.0 (from openai)\n",
      "  Downloading jiter-0.7.0-cp313-none-win_amd64.whl.metadata (5.3 kB)\n",
      "Collecting pydantic<3,>=1.9.0 (from openai)\n",
      "  Downloading pydantic-2.9.2-py3-none-any.whl.metadata (149 kB)\n",
      "Collecting sniffio (from openai)\n",
      "  Downloading sniffio-1.3.1-py3-none-any.whl.metadata (3.9 kB)\n",
      "Collecting tqdm>4 (from openai)\n",
      "  Downloading tqdm-4.67.0-py3-none-any.whl.metadata (57 kB)\n",
      "Requirement already satisfied: typing-extensions<5,>=4.11 in c:\\programdata\\anaconda3\\envs\\ai_devs_3_env\\lib\\site-packages (from openai) (4.12.2)\n",
      "Collecting idna>=2.8 (from anyio<5,>=3.5.0->openai)\n",
      "  Downloading idna-3.10-py3-none-any.whl.metadata (10 kB)\n",
      "Collecting certifi (from httpx<1,>=0.23.0->openai)\n",
      "  Using cached certifi-2024.8.30-py3-none-any.whl.metadata (2.2 kB)\n",
      "Collecting httpcore==1.* (from httpx<1,>=0.23.0->openai)\n",
      "  Downloading httpcore-1.0.6-py3-none-any.whl.metadata (21 kB)\n",
      "Collecting h11<0.15,>=0.13 (from httpcore==1.*->httpx<1,>=0.23.0->openai)\n",
      "  Downloading h11-0.14.0-py3-none-any.whl.metadata (8.2 kB)\n",
      "Collecting annotated-types>=0.6.0 (from pydantic<3,>=1.9.0->openai)\n",
      "  Downloading annotated_types-0.7.0-py3-none-any.whl.metadata (15 kB)\n",
      "Collecting pydantic-core==2.23.4 (from pydantic<3,>=1.9.0->openai)\n",
      "  Downloading pydantic_core-2.23.4-cp313-none-win_amd64.whl.metadata (6.7 kB)\n",
      "Requirement already satisfied: colorama in c:\\programdata\\anaconda3\\envs\\ai_devs_3_env\\lib\\site-packages (from tqdm>4->openai) (0.4.6)\n",
      "Downloading openai-1.54.2-py3-none-any.whl (389 kB)\n",
      "Downloading anyio-4.6.2.post1-py3-none-any.whl (90 kB)\n",
      "Downloading distro-1.9.0-py3-none-any.whl (20 kB)\n",
      "Downloading httpx-0.27.2-py3-none-any.whl (76 kB)\n",
      "Downloading httpcore-1.0.6-py3-none-any.whl (78 kB)\n",
      "Downloading jiter-0.7.0-cp313-none-win_amd64.whl (199 kB)\n",
      "Downloading pydantic-2.9.2-py3-none-any.whl (434 kB)\n",
      "Downloading pydantic_core-2.23.4-cp313-none-win_amd64.whl (1.9 MB)\n",
      "   ---------------------------------------- 0.0/1.9 MB ? eta -:--:--\n",
      "   ---------- ----------------------------- 0.5/1.9 MB 1.4 MB/s eta 0:00:02\n",
      "   --------------------------- ------------ 1.3/1.9 MB 2.8 MB/s eta 0:00:01\n",
      "   ---------------------------------------- 1.9/1.9 MB 3.2 MB/s eta 0:00:00\n",
      "Downloading sniffio-1.3.1-py3-none-any.whl (10 kB)\n",
      "Downloading tqdm-4.67.0-py3-none-any.whl (78 kB)\n",
      "Downloading annotated_types-0.7.0-py3-none-any.whl (13 kB)\n",
      "Downloading idna-3.10-py3-none-any.whl (70 kB)\n",
      "Using cached certifi-2024.8.30-py3-none-any.whl (167 kB)\n",
      "Using cached h11-0.14.0-py3-none-any.whl (58 kB)\n",
      "Installing collected packages: tqdm, sniffio, pydantic-core, jiter, idna, h11, distro, certifi, annotated-types, pydantic, httpcore, anyio, httpx, openai\n",
      "Successfully installed annotated-types-0.7.0 anyio-4.6.2.post1 certifi-2024.8.30 distro-1.9.0 h11-0.14.0 httpcore-1.0.6 httpx-0.27.2 idna-3.10 jiter-0.7.0 openai-1.54.2 pydantic-2.9.2 pydantic-core-2.23.4 sniffio-1.3.1 tqdm-4.67.0\n"
     ]
    }
   ],
   "source": [
    "!pip install openai"
   ]
  },
  {
   "cell_type": "code",
   "execution_count": 66,
   "metadata": {},
   "outputs": [],
   "source": [
    "import requests\n",
    "from bs4 import BeautifulSoup\n",
    "import openai\n",
    "from openai import OpenAI\n",
    "from dotenv import load_dotenv\n",
    "import os"
   ]
  },
  {
   "cell_type": "code",
   "execution_count": 67,
   "metadata": {},
   "outputs": [
    {
     "data": {
      "text/plain": [
       "True"
      ]
     },
     "execution_count": 67,
     "metadata": {},
     "output_type": "execute_result"
    }
   ],
   "source": [
    "load_dotenv()"
   ]
  },
  {
   "cell_type": "code",
   "execution_count": null,
   "metadata": {},
   "outputs": [],
   "source": [
    "url = \"https://xyz.ag3nts.org\"\n",
    "openai.api_key = os.getenv('OPENAI_API_KEY')"
   ]
  },
  {
   "cell_type": "code",
   "execution_count": null,
   "metadata": {},
   "outputs": [],
   "source": [
    "response = requests.get(url)\n",
    "html_content = response.text"
   ]
  },
  {
   "cell_type": "code",
   "execution_count": null,
   "metadata": {},
   "outputs": [],
   "source": [
    "#analiza HTML w poszukiwaniu pytania captcha\n",
    "soup = BeautifulSoup(html_content, 'html.parser')\n",
    "captcha_question = soup.find(id=\"human-question\").text.split('Question:')[1].strip()"
   ]
  },
  {
   "cell_type": "code",
   "execution_count": null,
   "metadata": {},
   "outputs": [],
   "source": [
    "client = OpenAI()\n",
    "\n",
    "#api shooting\n",
    "completion = client.chat.completions.create(\n",
    "    model=\"gpt-4o-mini\",\n",
    "    messages=[\n",
    "        {\"role\": \"system\", \"content\": \"Jesteś asystentem do obejścia captchy.\"},\n",
    "        {\"role\": \"user\", \"content\": f\"Odpowiedz tylko samą liczbą na podane pytanie: {captcha_question}\"}\n",
    "    ]\n",
    ")\n",
    "captcha_answer = completion.choices[0].message.content"
   ]
  },
  {
   "cell_type": "code",
   "execution_count": null,
   "metadata": {},
   "outputs": [],
   "source": [
    "#logging\n",
    "login_data = {\n",
    "    \"username\": \"tester\",\n",
    "    \"password\": \"574e112a\",\n",
    "    \"answer\": captcha_answer  # Uzupełnione o odpowiedź\n",
    "}"
   ]
  },
  {
   "cell_type": "code",
   "execution_count": 59,
   "metadata": {},
   "outputs": [
    {
     "name": "stdout",
     "output_type": "stream",
     "text": [
      "Status odpowiedzi: 200\n",
      "Treść odpowiedzi: <!DOCTYPE html>\n",
      "<html lang=\"en\">\n",
      "<head>\n",
      "    <meta charset=\"UTF-8\">\n",
      "    <meta name=\"viewport\" content=\"width=device-width, initial-scale=1.0\">\n",
      "    <title>XYZ - firmware upgrade</title>\n",
      "    <link rel=\"stylesheet\" type=\"text/css\" href=\"/css/bootstrap.min.css\">\n",
      "    <link rel=\"stylesheet\" type=\"text/css\" href=\"/css/fontawesome-all.min.css\">\n",
      "    <link rel=\"stylesheet\" type=\"text/css\" href=\"/css/iofrm-style.css\">\n",
      "    <link rel=\"stylesheet\" type=\"text/css\" href=\"/css/iofrm-theme40.css\">\n",
      "    <style>\n",
      "    dt.old {text-decoration: line-through;color:#8b8b8b}\n",
      "    </style>\n",
      "</head>\n",
      "<body>\n",
      "    <div class=\"form-body without-side\">\n",
      "        <div class=\"iofrm-layout\">\n",
      "            <div class=\"form-holder\">\n",
      "                <div class=\"form-content\">\n",
      "                    <div class=\"form-items\">\n",
      "                        <h3 class=\"font-md\">Download section</h3>\n",
      "                        <p>Download the latest software for your zone patrolling robot.</p>\n",
      "                        <dl>\n",
      "                        <dt><a href=\"/files/0_13_4b.txt\">Version 0.13.4b</a></dt>\n",
      "                        <dd>- robot no longer kills people<br />- some other stability improvements</dd>\n",
      "                        <dt class=\"old\">Version 0.13.4</dt>\n",
      "                        <dd>- security improvements</dd>\n",
      "\n",
      "                        <dt class=\"old\">Version 0.12.1</dt>\n",
      "                        <dd>- added some extra security</dd>\n",
      "                        </dl>\n",
      "                        <h2 style=\"background:#f4ffaa;font-family:monospace\">{{FLG:FIRMWARE}}</h2>\n",
      "                    </div>\n",
      "                </div>\n",
      "            </div>\n",
      "        </div>\n",
      "    </div>\n",
      "<script src=\"/js/jquery.min.js\"></script>\n",
      "<script src=\"/js/popper.min.js\"></script>\n",
      "<script src=\"/js/bootstrap.bundle.min.js\"></script>\n",
      "<script src=\"/js/main.js\"></script>\n",
      "</body>\n",
      "</html>\n",
      "\n"
     ]
    }
   ],
   "source": [
    "login_response = requests.post(url, data=login_data)\n",
    "print(\"Status odpowiedzi:\", login_response.status_code)\n",
    "print(\"Treść odpowiedzi:\", login_response.text)"
   ]
  },
  {
   "cell_type": "code",
   "execution_count": 61,
   "metadata": {},
   "outputs": [
    {
     "data": {
      "text/plain": [
       "'Rok lądowania na Księżycu?'"
      ]
     },
     "execution_count": 61,
     "metadata": {},
     "output_type": "execute_result"
    }
   ],
   "source": [
    "captcha_question"
   ]
  },
  {
   "cell_type": "code",
   "execution_count": 62,
   "metadata": {},
   "outputs": [
    {
     "data": {
      "text/plain": [
       "'1969'"
      ]
     },
     "execution_count": 62,
     "metadata": {},
     "output_type": "execute_result"
    }
   ],
   "source": [
    "captcha_answer"
   ]
  },
  {
   "cell_type": "code",
   "execution_count": 63,
   "metadata": {},
   "outputs": [
    {
     "data": {
      "text/plain": [
       "ChatCompletionMessage(content='1969', refusal=None, role='assistant', audio=None, function_call=None, tool_calls=None)"
      ]
     },
     "execution_count": 63,
     "metadata": {},
     "output_type": "execute_result"
    }
   ],
   "source": [
    "completion.choices[0].message"
   ]
  },
  {
   "cell_type": "code",
   "execution_count": 64,
   "metadata": {},
   "outputs": [
    {
     "name": "stderr",
     "output_type": "stream",
     "text": [
      "C:\\Users\\Łukasz\\AppData\\Local\\Temp\\ipykernel_3520\\2243460867.py:1: DeprecationWarning: Importing display from IPython.core.display is deprecated since IPython 7.14, please import from IPython.display\n",
      "  from IPython.core.display import display, HTML\n"
     ]
    },
    {
     "data": {
      "text/html": [
       "<!DOCTYPE html>\n",
       "<html lang=\"en\">\n",
       "<head>\n",
       "    <meta charset=\"UTF-8\">\n",
       "    <meta name=\"viewport\" content=\"width=device-width, initial-scale=1.0\">\n",
       "    <title>XYZ - firmware upgrade</title>\n",
       "    <link rel=\"stylesheet\" type=\"text/css\" href=\"/css/bootstrap.min.css\">\n",
       "    <link rel=\"stylesheet\" type=\"text/css\" href=\"/css/fontawesome-all.min.css\">\n",
       "    <link rel=\"stylesheet\" type=\"text/css\" href=\"/css/iofrm-style.css\">\n",
       "    <link rel=\"stylesheet\" type=\"text/css\" href=\"/css/iofrm-theme40.css\">\n",
       "    <style>\n",
       "    dt.old {text-decoration: line-through;color:#8b8b8b}\n",
       "    </style>\n",
       "</head>\n",
       "<body>\n",
       "    <div class=\"form-body without-side\">\n",
       "        <div class=\"iofrm-layout\">\n",
       "            <div class=\"form-holder\">\n",
       "                <div class=\"form-content\">\n",
       "                    <div class=\"form-items\">\n",
       "                        <h3 class=\"font-md\">Download section</h3>\n",
       "                        <p>Download the latest software for your zone patrolling robot.</p>\n",
       "                        <dl>\n",
       "                        <dt><a href=\"/files/0_13_4b.txt\">Version 0.13.4b</a></dt>\n",
       "                        <dd>- robot no longer kills people<br />- some other stability improvements</dd>\n",
       "                        <dt class=\"old\">Version 0.13.4</dt>\n",
       "                        <dd>- security improvements</dd>\n",
       "\n",
       "                        <dt class=\"old\">Version 0.12.1</dt>\n",
       "                        <dd>- added some extra security</dd>\n",
       "                        </dl>\n",
       "                        <h2 style=\"background:#f4ffaa;font-family:monospace\">{{FLG:FIRMWARE}}</h2>\n",
       "                    </div>\n",
       "                </div>\n",
       "            </div>\n",
       "        </div>\n",
       "    </div>\n",
       "<script src=\"/js/jquery.min.js\"></script>\n",
       "<script src=\"/js/popper.min.js\"></script>\n",
       "<script src=\"/js/bootstrap.bundle.min.js\"></script>\n",
       "<script src=\"/js/main.js\"></script>\n",
       "</body>\n",
       "</html>\n"
      ],
      "text/plain": [
       "<IPython.core.display.HTML object>"
      ]
     },
     "metadata": {},
     "output_type": "display_data"
    }
   ],
   "source": [
    "from IPython.core.display import display, HTML\n",
    "\n",
    "display(HTML(login_response.text))"
   ]
  },
  {
   "cell_type": "code",
   "execution_count": null,
   "metadata": {},
   "outputs": [],
   "source": []
  }
 ],
 "metadata": {
  "kernelspec": {
   "display_name": "ai_devs_3_env",
   "language": "python",
   "name": "python3"
  },
  "language_info": {
   "codemirror_mode": {
    "name": "ipython",
    "version": 3
   },
   "file_extension": ".py",
   "mimetype": "text/x-python",
   "name": "python",
   "nbconvert_exporter": "python",
   "pygments_lexer": "ipython3",
   "version": "3.13.0"
  }
 },
 "nbformat": 4,
 "nbformat_minor": 2
}
