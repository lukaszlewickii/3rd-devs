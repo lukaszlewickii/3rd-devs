{
 "cells": [
  {
   "cell_type": "code",
   "execution_count": 1,
   "metadata": {},
   "outputs": [],
   "source": [
    "import requests\n",
    "import openai\n",
    "from openai import OpenAI\n",
    "from dotenv import load_dotenv\n",
    "import os\n",
    "import zipfile\n",
    "from tqdm import tqdm\n",
    "import base64\n",
    "import pathlib"
   ]
  },
  {
   "cell_type": "code",
   "execution_count": 2,
   "metadata": {},
   "outputs": [
    {
     "data": {
      "text/plain": [
       "True"
      ]
     },
     "execution_count": 2,
     "metadata": {},
     "output_type": "execute_result"
    }
   ],
   "source": [
    "load_dotenv()"
   ]
  },
  {
   "cell_type": "code",
   "execution_count": 8,
   "metadata": {},
   "outputs": [],
   "source": [
    "note = requests.get('https://centrala.ag3nts.org/dane/barbara.txt')"
   ]
  },
  {
   "cell_type": "code",
   "execution_count": 13,
   "metadata": {},
   "outputs": [
    {
     "data": {
      "text/plain": [
       "'Podczas pobytu w Krakowie w 2019 roku, Barbara Zawadzka poznała swojego ówczesnego narzeczonego, a obecnie męża, Aleksandra Ragowskiego. Tam też poznali osobę prawdopodobnie powiązaną z ruchem oporu, której dane nie są nam znane. Istnieje podejrzenie, że już\\xa0wtedy pracowali oni nad planami ograniczenia rozwoju sztucznej inteligencji, tłumacząc to względami bezpieczeństwa. Tajemniczy osobnik zajmował się\\xa0także organizacją spotkań mających na celu podnoszenie wiedzy na temat wykorzystania sztucznej inteligencji przez programistów. Na spotkania te uczęszczała także Barbara.W okolicach 2021 roku Ragowski udał się do Warszawy celem spotkania z profesorem Andrzejem Majem. Prawdopodobnie nie zabrał ze sobą żony, a cel ich spotkania nie jest do końca jasny.Podczas pobytu w Warszawie, w instytucie profesora doszło do incydentu, w wyniku którego, jeden z laborantów - Rafał Bomba - zaginął. Niepotwierdzone źródła informacji podają jednak, że Rafał spędził około 2 lata, wynajmując pokój w pewnym hotelu. Dlaczego zniknął?  Przed kim się ukrywał? Z kim kontaktował się przez ten czas i dlaczego ujawnił się po tym czasie? Na te pytania nie znamy odpowiedzi, ale agenci starają się\\xa0uzupełnić\\xa0brakujące informacje.Istnieje podejrzenie, że Rafał mógł być\\xa0powiązany z ruchem oporu. Prawdopodobnie przekazał on notatki profesora Maja w ręce Ragowskiego, a ten po powrocie do Krakowa mógł przekazać\\xa0je swojej żonie. Z tego powodu uwaga naszej jednostki skupia się na odnalezieniu Barbary.Aktualne miejsce pobytu Barbary Zawadzkiej nie jest znane. Przypuszczamy jednak, że nie opuściła ona kraju.'"
      ]
     },
     "execution_count": 13,
     "metadata": {},
     "output_type": "execute_result"
    }
   ],
   "source": [
    "note.text.replace('\\n', '')"
   ]
  },
  {
   "cell_type": "code",
   "execution_count": 15,
   "metadata": {},
   "outputs": [],
   "source": [
    "client = OpenAI()"
   ]
  },
  {
   "cell_type": "code",
   "execution_count": 21,
   "metadata": {},
   "outputs": [],
   "source": [
    "response = client.chat.completions.create(\n",
    "    model=\"gpt-4o\",\n",
    "    messages=[\n",
    "        {\"role\": \"system\", \"content\": f'Jesteś moim asystentem i musisz mi pomóc namierzyć Barbarę Zawadzką. \\\n",
    "                                        Oto notatka na jej temat: {note.text.replace('\\n', '')}'},\n",
    "        {\"role\": \"user\", \"content\": \"Rozpisz mi wszystkie imiona (poza Barbarą oczywiście) oraz wszystkie miasta jakie pojawiają się w notatce \\\n",
    "            i przygotuj mi te dane w słowniku z kluczami names i cities i odpowiednio przypisanymi wartościami w listach. Zwróć sam czysty słownik, imiona mają być bez nazwisk\"}\n",
    "    ]\n",
    ")\n",
    "answer = response.choices[0].message.content"
   ]
  },
  {
   "cell_type": "code",
   "execution_count": 23,
   "metadata": {},
   "outputs": [
    {
     "data": {
      "text/plain": [
       "'```python\\n{\\n    \"names\": [\"Aleksander\", \"Andrzej\", \"Rafał\"],\\n    \"cities\": [\"Kraków\", \"Warszawa\"]\\n}\\n```'"
      ]
     },
     "execution_count": 23,
     "metadata": {},
     "output_type": "execute_result"
    }
   ],
   "source": [
    "answer"
   ]
  },
  {
   "cell_type": "code",
   "execution_count": 45,
   "metadata": {},
   "outputs": [],
   "source": [
    "hints = {\n",
    "    'names': [\"Aleksander\", \"Andrzej\", \"Rafal\"],\n",
    "    'cities': [\"Krakow\", \"Warszawa\"]\n",
    "}"
   ]
  },
  {
   "cell_type": "code",
   "execution_count": 52,
   "metadata": {},
   "outputs": [],
   "source": [
    "clues = {}"
   ]
  },
  {
   "cell_type": "code",
   "execution_count": 53,
   "metadata": {},
   "outputs": [],
   "source": [
    "url_people = 'https://centrala.ag3nts.org/people'\n",
    "\n",
    "for name in hints['names']:\n",
    "    people_hint_response = requests.post(\n",
    "        url=url_people,\n",
    "        json={\n",
    "            'apikey': os.getenv('AI_DEVS_3_API_KEY'),\n",
    "            'query': name\n",
    "        }\n",
    "    )\n",
    "    if people_hint_response.status_code == 200:\n",
    "        clues[name] = people_hint_response.json()['message']"
   ]
  },
  {
   "cell_type": "code",
   "execution_count": 56,
   "metadata": {},
   "outputs": [],
   "source": [
    "url_places = 'https://centrala.ag3nts.org/places'\n",
    "\n",
    "for city in hints['cities']:\n",
    "    city_hint_response = requests.post(\n",
    "        url=url_places,\n",
    "        json={\n",
    "            'apikey': os.getenv('AI_DEVS_3_API_KEY'),\n",
    "            'query': city\n",
    "        }\n",
    "    )\n",
    "    if city_hint_response.status_code == 200:\n",
    "        clues[city] = city_hint_response.json()['message']"
   ]
  },
  {
   "cell_type": "code",
   "execution_count": 57,
   "metadata": {},
   "outputs": [
    {
     "data": {
      "text/plain": [
       "{'Aleksander': 'KRAKOW LUBLIN WARSZAWA',\n",
       " 'Andrzej': 'WARSZAWA GRUDZIADZ',\n",
       " 'Rafal': 'GRUDZIADZ WARSZAWA LUBLIN',\n",
       " 'Krakow': 'ALEKSANDER BARBARA ADAM',\n",
       " 'Warszawa': 'RAFAŁ ALEKSANDER ANDRZEJ'}"
      ]
     },
     "execution_count": 57,
     "metadata": {},
     "output_type": "execute_result"
    }
   ],
   "source": [
    "clues"
   ]
  },
  {
   "cell_type": "code",
   "execution_count": 44,
   "metadata": {},
   "outputs": [
    {
     "data": {
      "text/plain": [
       "'KRAKOW LUBLIN WARSZAWA'"
      ]
     },
     "execution_count": 44,
     "metadata": {},
     "output_type": "execute_result"
    }
   ],
   "source": [
    "people_hint_response.json()['message']"
   ]
  },
  {
   "cell_type": "code",
   "execution_count": 95,
   "metadata": {},
   "outputs": [],
   "source": [
    "response = client.chat.completions.create(\n",
    "    model=\"gpt-4o\",\n",
    "    messages=[\n",
    "        {\"role\": \"system\", \"content\": f'Jesteś moim asystentem i musisz mi pomóc namierzyć Barbarę Zawadzką. \\\n",
    "                                        Oto notatka na jej temat: {note.text.replace('\\n', '')}'},\n",
    "        {\"role\": \"system\", \"content\": f'Tu masz dodatkowe poszlaki: {clues}'},\n",
    "        {\"role\": \"user\", \"content\": \"Połącz wszystkie dane w jedną całość i uzupełnij brakujące informacje. \\\n",
    "            Kto był współpracownikiem Aleksandra i Barbary? Z kim widział się Rafał? Być może znalezienie informacji na ten temat pozwoli nam wytypować kolejne miejsce, \\\n",
    "            w którym warto poszukać Barbary. To nie Lublin ani Warszawa. Czy może to być Elbląg i dlaczego?\"}\n",
    "    ]\n",
    ")\n",
    "answer = response.choices[0].message.content"
   ]
  },
  {
   "cell_type": "code",
   "execution_count": 96,
   "metadata": {},
   "outputs": [
    {
     "data": {
      "text/plain": [
       "'Biorąc pod uwagę dostępne informacje, spróbujmy połączyć wszystkie poszlaki:\\n\\n1. **Aleksander Ragowski:**\\n   - Wcześniej przebywał w Krakowie, gdzie poznał Barbarę.\\n   - W 2021 roku udał się do Warszawy na spotkanie z profesorem Andrzejem Majem.\\n   - W poszlakach jest powiązany z Krakowem, Lublinem i Warszawą.\\n\\n2. **Barbara Zawadzka:**\\n   - Była związana z Krakowem, gdzie mogła otrzymać notatki od Aleksandra po jego powrocie z Warszawy.\\n   - Nie wiadomo, aby opuściła kraj, ale wiadomo, że nie przebywa w Lublinie ani Warszawie.\\n\\n3. **Profesor Andrzej Maj:**\\n   - Przebywał w Warszawie, związany z Grudziądzem.\\n   - Spotkał się z Aleksandrem w Warszawie.\\n\\n4. **Rafał Bomba:**\\n   - Zaginął po incydencie w Warszawie i spędził dwa lata w nieznanym miejscu, prawdopodobnie wynajmując pokój w hotelu.\\n   - Poszlaki wskazują na jego powiązania z Grudziądzem, Warszawą i Lublinem.\\n   - Istnieje podejrzenie, że był powiązany z ruchem oporu.\\n\\n5. **Powiązania geograficzne:**\\n   - Kraków: związany z Aleksandrem, Barbarą oraz osobą o imieniu Adam.\\n   - Warszawa: Rafał, Aleksander, profesor Andrzej.\\n   - Lublin: wspominany w kontekście Aleksandra i Rafała.\\n   - Grudziądz: związany z profesorem Andrzejem i Rafałem.\\n\\nNa podstawie powyższych informacji, można przypuszczać, że współpracownikiem Aleksandra i Barbary w ruchu oporu mógł być ktoś związany z Krakowem, np. Adam, zważywszy na brak imienia wśród wcześniej podanych.\\n\\nRafał, związany z profesorem Andrzejem, mógł spotkać się z nim w Grudziądzu, co wskazuje na możliwe dodatkowe kontakty w tym mieście.\\n\\nCo do miejsca pobytu Barbary: Wykluczając Lublin oraz Warszawę, zauważamy, że Elbląg nie został w żaden sposób powiązany z poprzednimi danymi, ale Barbara mogła się tam udać, jeśli jest to miejsce nieoczekiwane i poza typowym ciągiem zdarzeń związanych z innymi postaciami zaangażowanymi w tę historię. Celem mogłoby być unikanie wykrycia, szczególnie jeśli Elbląg jest zwykle postrzegany jako neutralne terytorium w kontekście aktywności ruchu oporu.'"
      ]
     },
     "execution_count": 96,
     "metadata": {},
     "output_type": "execute_result"
    }
   ],
   "source": [
    "answer"
   ]
  },
  {
   "cell_type": "code",
   "execution_count": 92,
   "metadata": {},
   "outputs": [],
   "source": [
    "solution_response = {\n",
    "   \"task\": \"loop\",\n",
    "   \"apikey\": os.getenv('AI_DEVS_3_API_KEY'),\n",
    "   \"answer\": 'ELBLAG'\n",
    "}"
   ]
  },
  {
   "cell_type": "code",
   "execution_count": 93,
   "metadata": {},
   "outputs": [],
   "source": [
    "response = requests.post('https://centrala.ag3nts.org/report', json=solution_response)"
   ]
  },
  {
   "cell_type": "code",
   "execution_count": 94,
   "metadata": {},
   "outputs": [
    {
     "data": {
      "text/plain": [
       "{'code': 0, 'message': '{{FLG:GOTCHA}}'}"
      ]
     },
     "execution_count": 94,
     "metadata": {},
     "output_type": "execute_result"
    }
   ],
   "source": [
    "response.json()"
   ]
  },
  {
   "cell_type": "code",
   "execution_count": null,
   "metadata": {},
   "outputs": [],
   "source": []
  }
 ],
 "metadata": {
  "kernelspec": {
   "display_name": "AI_DEVS_3_ENV",
   "language": "python",
   "name": "python3"
  },
  "language_info": {
   "codemirror_mode": {
    "name": "ipython",
    "version": 3
   },
   "file_extension": ".py",
   "mimetype": "text/x-python",
   "name": "python",
   "nbconvert_exporter": "python",
   "pygments_lexer": "ipython3",
   "version": "3.13.0"
  }
 },
 "nbformat": 4,
 "nbformat_minor": 2
}
